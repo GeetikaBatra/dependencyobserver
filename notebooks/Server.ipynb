{
 "cells": [
  {
   "cell_type": "code",
   "execution_count": 2,
   "metadata": {},
   "outputs": [],
   "source": [
    "r = open(\"/Users/gbatra/dep-repos/fabric8-analytics-server/deps.txt\")"
   ]
  },
  {
   "cell_type": "code",
   "execution_count": 3,
   "metadata": {
    "collapsed": true
   },
   "outputs": [],
   "source": [
    "pipdata = r.read().split()\n"
   ]
  },
  {
   "cell_type": "code",
   "execution_count": 5,
   "metadata": {},
   "outputs": [],
   "source": [
    "pipdata = set(pipdata)\n",
    "\n"
   ]
  },
  {
   "cell_type": "code",
   "execution_count": 6,
   "metadata": {
    "collapsed": true
   },
   "outputs": [],
   "source": [
    "gistdata = {'requests-futures-0.9.7', 'git2json-0.2.3', 'kombu-4.0.2', 'flask-0.11.1', 'rsa-3.4.2', 'aniso8601-1.2.0', 'flask-appconfig-0.11.1', 'docutils-0.13.1', 'urllib3-1.21.1', 'colorama-0.3.9', 'flask-restful-0.3.5', 'wtforms-2.1', 'flask-principal-0.4.0', 'pyasn1-modules-0.0.9', 'celery-4.0.2', 'httplib2-0.10.3', 'semantic-version-2.6.0', 'itsdangerous-0.24', 'markupsafe-0.23', 'boto-2.48.0', 'codegen-1.0', 'beautifulsoup4-4.6.0', 'pytz-2017.2', 'billiard-3.5.0.2', 'certifi-2017.4.17', 'psycopg2-2.7.1', 'toml-0.9.2', 'configobj-5.0.6', 'flask-login-0.3.2', 'flask-cache-0.13.1', 'pyyaml-3.12', 'sqlalchemy-1.1.3', 'mod-wsgi-4.5.13', 'python-dateutil-2.5.3', 'pycrypto-2.6.1', 'amqp-2.1.4', 'oauth2client-3.0.0', 'scikit-learn-0.18.2', 'vine-1.1.3', 's3transfer-0.1.10', 'boto3-1.4.8', 'redis-2.10.5', 'logutils-0.3.5', 'pytz-2016.7', 'flask-wtf-0.13.1', 'numpy-1.13.1', 'pyjwt-1.5.0', 'chardet-3.0.4', 'psycopg2-2.6.2', 'rainbow-logging-handler-2.2.2', 'idna-2.5', 'flask-sqlalchemy-2.1', 'click-6.6', 'requests-2.18.1', 'flask-mail-0.9.1', 'anymarkup-core-0.7.1', 'google-api-python-client-1.6.2', 'unidiff-0.5.4', 'scipy-0.19.1', 'jsonschema-2.6.0', 'sqlalchemy-1.1.11', 'jmespath-0.9.3', 'selinon-0.1.0rc9', 'selinonlib-0.1.0rc9', 'pyasn1-0.2.3', 'graphviz-0.8', 'jinja2-2.8', 'f8a-worker-0.2', 'bigquery-python-1.12.0', 'jsl-0.2.4', 'werkzeug-0.12.2', 'uritemplate-3.0.0', 'flexmock-0.10.2', 'python-dateutil-2.6.1', 'botocore-1.8.16', 'blinker-1.4', 'passlib-1.6.5', 'anymarkup-0.7.0', 'json5-0.2.4', 'xmltodict-0.11.0', 'flask-security-1.7.5', 'argcomplete-1.8.2', 'lxml-3.8.0', 'flask-cors-3.0.2'}\n",
    "\n"
   ]
  },
  {
   "cell_type": "code",
   "execution_count": 7,
   "metadata": {},
   "outputs": [
    {
     "data": {
      "text/plain": [
       "35"
      ]
     },
     "execution_count": 7,
     "metadata": {},
     "output_type": "execute_result"
    }
   ],
   "source": [
    "len(pipdata)"
   ]
  },
  {
   "cell_type": "code",
   "execution_count": 8,
   "metadata": {},
   "outputs": [
    {
     "data": {
      "text/plain": [
       "84"
      ]
     },
     "execution_count": 8,
     "metadata": {},
     "output_type": "execute_result"
    }
   ],
   "source": [
    "len(gistdata)"
   ]
  },
  {
   "cell_type": "code",
   "execution_count": 9,
   "metadata": {},
   "outputs": [
    {
     "data": {
      "text/plain": [
       "{'Flask-Cache==0.13.1',\n",
       " 'Flask-Cors==3.0.2',\n",
       " 'Flask-Login==0.3.2',\n",
       " 'Flask-Mail==0.9.1',\n",
       " 'Flask-Principal==0.4.0',\n",
       " 'Flask-RESTful==0.3.5',\n",
       " 'Flask-SQLAlchemy==2.1',\n",
       " 'Flask-Security==1.7.5',\n",
       " 'Flask-WTF==0.13.1',\n",
       " 'Flask==0.11.1',\n",
       " 'Jinja2==2.8',\n",
       " 'MarkupSafe==0.23',\n",
       " 'PyJWT==1.5.0',\n",
       " 'SQLAlchemy==1.1.3',\n",
       " 'WTForms==2.1',\n",
       " 'Werkzeug==0.12.2',\n",
       " 'aniso8601==1.2.0',\n",
       " 'blinker==1.4',\n",
       " 'certifi==2017.4.17',\n",
       " 'chardet==3.0.4',\n",
       " 'click==6.6',\n",
       " 'flask-appconfig==0.11.1',\n",
       " 'idna==2.5',\n",
       " 'itsdangerous==0.24',\n",
       " 'jsl==0.2.4',\n",
       " 'mod-wsgi==4.5.13',\n",
       " 'passlib==1.6.5',\n",
       " 'psycopg2==2.6.2',\n",
       " 'pycrypto==2.6.1',\n",
       " 'python-dateutil==2.5.3',\n",
       " 'pytz==2016.7',\n",
       " 'requests-futures==0.9.7',\n",
       " 'requests==2.18.1',\n",
       " 'six==1.10.0',\n",
       " 'urllib3==1.21.1'}"
      ]
     },
     "execution_count": 9,
     "metadata": {},
     "output_type": "execute_result"
    }
   ],
   "source": [
    "pipdata-gistdata\n"
   ]
  },
  {
   "cell_type": "code",
   "execution_count": null,
   "metadata": {
    "collapsed": true
   },
   "outputs": [],
   "source": []
  }
 ],
 "metadata": {
  "kernelspec": {
   "display_name": "Python 3",
   "language": "python",
   "name": "python3"
  },
  "language_info": {
   "codemirror_mode": {
    "name": "ipython",
    "version": 3
   },
   "file_extension": ".py",
   "mimetype": "text/x-python",
   "name": "python",
   "nbconvert_exporter": "python",
   "pygments_lexer": "ipython3",
   "version": "3.6.1"
  }
 },
 "nbformat": 4,
 "nbformat_minor": 2
}
