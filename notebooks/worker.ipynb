{
 "cells": [
  {
   "cell_type": "code",
   "execution_count": 6,
   "metadata": {
    "collapsed": true
   },
   "outputs": [],
   "source": [
    "r = open(\"/Users/gbatra/dep-repos/fabric8-analytics-worker/dep.txt\")\n",
    "\n"
   ]
  },
  {
   "cell_type": "code",
   "execution_count": 7,
   "metadata": {
    "collapsed": true
   },
   "outputs": [],
   "source": [
    "pipdata = r.read().split()\n"
   ]
  },
  {
   "cell_type": "code",
   "execution_count": 8,
   "metadata": {},
   "outputs": [
    {
     "data": {
      "text/plain": [
       "['amqp==2.1.4',\n",
       " 'anymarkup==0.7.0',\n",
       " 'anymarkup-core==0.7.1',\n",
       " 'beautifulsoup4==4.6.0',\n",
       " 'BigQuery-Python==1.13.0',\n",
       " 'billiard==3.5.0.3',\n",
       " 'boto==2.48.0',\n",
       " 'boto3==1.5.28',\n",
       " 'botocore==1.8.42',\n",
       " 'celery==4.1.0',\n",
       " 'certifi==2018.1.18',\n",
       " 'chardet==3.0.4',\n",
       " 'click==6.7',\n",
       " 'codegen==1.0',\n",
       " 'colorama==0.3.9',\n",
       " 'configobj==5.0.6',\n",
       " 'docutils==0.14',\n",
       " 'git2json==0.2.3',\n",
       " 'google-api-python-client==1.6.5',\n",
       " 'graphviz==0.8.2',\n",
       " 'httplib2==0.10.3',\n",
       " 'idna==2.6',\n",
       " 'jmespath==0.9.3',\n",
       " 'jsl==0.2.4',\n",
       " 'json5==0.6.0',\n",
       " 'jsonschema==2.6.0',\n",
       " 'kombu==4.1.0',\n",
       " 'logutils==0.3.5',\n",
       " 'lxml==4.1.1',\n",
       " 'numpy==1.14.0',\n",
       " 'oauth2client==4.1.2',\n",
       " 'psycopg2==2.7.4',\n",
       " 'pyasn1==0.4.2',\n",
       " 'pyasn1-modules==0.2.1',\n",
       " 'python-dateutil==2.6.1',\n",
       " 'pytz==2018.3',\n",
       " 'PyYAML==3.12',\n",
       " 'rainbow-logging-handler==2.2.2',\n",
       " 'raven==6.5.0',\n",
       " 'requests==2.18.4',\n",
       " 'rsa==3.4.2',\n",
       " 's3transfer==0.1.12',\n",
       " 'scikit-learn==0.19.1',\n",
       " 'scipy==1.0.0',\n",
       " 'selinon==1.0.0rc3',\n",
       " 'semantic-version==2.6.0',\n",
       " 'six==1.11.0',\n",
       " 'SQLAlchemy==1.2.2',\n",
       " 'toml==0.9.4',\n",
       " 'unidiff==0.5.5',\n",
       " 'uritemplate==3.0.0',\n",
       " 'urllib3==1.22',\n",
       " 'vine==1.1.4',\n",
       " 'xmltodict==0.11.0']"
      ]
     },
     "execution_count": 8,
     "metadata": {},
     "output_type": "execute_result"
    }
   ],
   "source": [
    "pipdata\n"
   ]
  },
  {
   "cell_type": "code",
   "execution_count": 9,
   "metadata": {
    "collapsed": true
   },
   "outputs": [],
   "source": [
    "pipdata = set(pipdata)"
   ]
  },
  {
   "cell_type": "code",
   "execution_count": 10,
   "metadata": {},
   "outputs": [
    {
     "data": {
      "text/plain": [
       "54"
      ]
     },
     "execution_count": 10,
     "metadata": {},
     "output_type": "execute_result"
    }
   ],
   "source": [
    "len(pipdata)"
   ]
  },
  {
   "cell_type": "code",
   "execution_count": 11,
   "metadata": {
    "collapsed": true
   },
   "outputs": [],
   "source": [
    "gistdata = {'flask-0.11.1', 'flask-wtf-0.13.1', 'anymarkup-0.7.0', 'argcomplete-1.8.2', 'beautifulsoup4-4.6.0', 'bigquery-python-1.12.0', 'git2json-0.2.3', 'jsl-0.2.4', 'toml-0.9.2', 'docutils-0.13.1', 'flask-mail-0.9.1', 'sqlalchemy-1.1.3', 'werkzeug-0.12.2', 'redis-2.10.5', 'pytz-2016.7', 'graphviz-0.8', 'blinker-1.4', 'configobj-5.0.6', 'semantic-version-2.6.0', 'chardet-3.0.4', 'jmespath-0.9.3', 'jsonschema-2.6.0', 'jinja2-2.8', 'requests-2.18.1', 'flexmock-0.10.2', 'pyasn1-0.2.3', 'botocore-1.8.16', 'python-dateutil-2.6.1', 'kombu-4.0.2', 'requests-futures-0.9.7', 'unidiff-0.5.4', 'celery-4.0.2', 'uritemplate-3.0.0', 'scipy-0.19.1', 'itsdangerous-0.24', 'pycrypto-2.6.1', 'xmltodict-0.11.0', 'pytz-2017.2', 'passlib-1.6.5', 'psycopg2-2.6.2', 'urllib3-1.21.1', 'flask-login-0.3.2', 'mod-wsgi-4.5.13', 'flask-sqlalchemy-2.1', 'flask-cache-0.13.1', 'markupsafe-0.23', 'f8a-worker-0.2', 'boto3-1.4.8', 'flask-appconfig-0.11.1', 'amqp-2.1.4', 'billiard-3.5.0.2', 'httplib2-0.10.3', 'flask-restful-0.3.5', 'python-dateutil-2.5.3', 'flask-cors-3.0.2', 'idna-2.5', 'logutils-0.3.5', 'rainbow-logging-handler-2.2.2', 'flask-security-1.7.5', 'google-api-python-client-1.6.2', 'boto-2.48.0', 'selinon-0.1.0rc9', 'sqlalchemy-1.1.11', 'aniso8601-1.2.0', 'certifi-2017.4.17', 'anymarkup-core-0.7.1', 'pyasn1-modules-0.0.9', 'json5-0.2.4', 'rsa-3.4.2', 'oauth2client-3.0.0', 'scikit-learn-0.18.2', 'wtforms-2.1', 'pyyaml-3.12', 'vine-1.1.3', 'flask-principal-0.4.0', 'colorama-0.3.9', 'pyjwt-1.5.0', 'selinonlib-0.1.0rc9', 'codegen-1.0', 'psycopg2-2.7.1', 's3transfer-0.1.10', 'lxml-3.8.0', 'click-6.6', 'numpy-1.13.1'}\n",
    "\n"
   ]
  },
  {
   "cell_type": "code",
   "execution_count": 12,
   "metadata": {},
   "outputs": [
    {
     "data": {
      "text/plain": [
       "84"
      ]
     },
     "execution_count": 12,
     "metadata": {},
     "output_type": "execute_result"
    }
   ],
   "source": [
    "len(gistdata)\n"
   ]
  },
  {
   "cell_type": "code",
   "execution_count": 16,
   "metadata": {},
   "outputs": [
    {
     "data": {
      "text/plain": [
       "84"
      ]
     },
     "execution_count": 16,
     "metadata": {},
     "output_type": "execute_result"
    }
   ],
   "source": [
    "len(gistdata-pipdata)\n",
    "\n",
    "\n",
    "\n",
    "\n"
   ]
  },
  {
   "cell_type": "code",
   "execution_count": 17,
   "metadata": {},
   "outputs": [],
   "source": [
    "from pip._vendor import pkg_resources\n"
   ]
  },
  {
   "cell_type": "code",
   "execution_count": 23,
   "metadata": {},
   "outputs": [
    {
     "name": "stdout",
     "output_type": "stream",
     "text": [
      "{rainbow-logging-handler 2.2.2 (/usr/local/lib/python3.6/site-packages): ['colorama', 'logutils']}\n",
      "{rainbow-logging-handler 2.2.2 (/usr/local/lib/python3.6/site-packages): ['colorama', 'logutils'], xmltodict 0.11.0 (/usr/local/lib/python3.6/site-packages): []}\n"
     ]
    },
    {
     "ename": "KeyError",
     "evalue": "'boto'",
     "output_type": "error",
     "traceback": [
      "\u001b[0;31m---------------------------------------------------------------------------\u001b[0m",
      "\u001b[0;31mKeyError\u001b[0m                                  Traceback (most recent call last)",
      "\u001b[0;32m<ipython-input-23-e2f126301586>\u001b[0m in \u001b[0;36m<module>\u001b[0;34m()\u001b[0m\n\u001b[1;32m      2\u001b[0m \u001b[0;32mfor\u001b[0m \u001b[0meach\u001b[0m \u001b[0;32min\u001b[0m \u001b[0mpipdata\u001b[0m\u001b[0;34m:\u001b[0m\u001b[0;34m\u001b[0m\u001b[0m\n\u001b[1;32m      3\u001b[0m     \u001b[0m_package_name\u001b[0m \u001b[0;34m=\u001b[0m \u001b[0meach\u001b[0m\u001b[0;34m.\u001b[0m\u001b[0msplit\u001b[0m\u001b[0;34m(\u001b[0m\u001b[0;34m\"==\"\u001b[0m\u001b[0;34m)\u001b[0m\u001b[0;34m[\u001b[0m\u001b[0;36m0\u001b[0m\u001b[0;34m]\u001b[0m\u001b[0;34m\u001b[0m\u001b[0m\n\u001b[0;32m----> 4\u001b[0;31m     \u001b[0m_package\u001b[0m \u001b[0;34m=\u001b[0m \u001b[0mpkg_resources\u001b[0m\u001b[0;34m.\u001b[0m\u001b[0mworking_set\u001b[0m\u001b[0;34m.\u001b[0m\u001b[0mby_key\u001b[0m\u001b[0;34m[\u001b[0m\u001b[0m_package_name\u001b[0m\u001b[0;34m]\u001b[0m\u001b[0;34m\u001b[0m\u001b[0m\n\u001b[0m\u001b[1;32m      5\u001b[0m     \u001b[0mpackage_dict\u001b[0m\u001b[0;34m[\u001b[0m\u001b[0m_package\u001b[0m\u001b[0;34m]\u001b[0m  \u001b[0;34m=\u001b[0m \u001b[0;34m[\u001b[0m\u001b[0mstr\u001b[0m\u001b[0;34m(\u001b[0m\u001b[0mr\u001b[0m\u001b[0;34m)\u001b[0m \u001b[0;32mfor\u001b[0m \u001b[0mr\u001b[0m \u001b[0;32min\u001b[0m \u001b[0m_package\u001b[0m\u001b[0;34m.\u001b[0m\u001b[0mrequires\u001b[0m\u001b[0;34m(\u001b[0m\u001b[0;34m)\u001b[0m\u001b[0;34m]\u001b[0m\u001b[0;34m\u001b[0m\u001b[0m\n\u001b[1;32m      6\u001b[0m     \u001b[0mprint\u001b[0m\u001b[0;34m(\u001b[0m\u001b[0mpackage_dict\u001b[0m\u001b[0;34m)\u001b[0m\u001b[0;34m\u001b[0m\u001b[0m\n",
      "\u001b[0;31mKeyError\u001b[0m: 'boto'"
     ]
    }
   ],
   "source": [
    "package_dict = {}\n",
    "for each in pipdata:\n",
    "    _package_name = each.split(\"==\")[0]\n",
    "    _package = pkg_resources.working_set.by_key[_package_name]\n",
    "    package_dict[_package]  = [str(r) for r in _package.requires()]\n",
    "    print(package_dict)\n",
    "package_dict\n"
   ]
  },
  {
   "cell_type": "code",
   "execution_count": null,
   "metadata": {
    "collapsed": true
   },
   "outputs": [],
   "source": []
  }
 ],
 "metadata": {
  "kernelspec": {
   "display_name": "Python 3",
   "language": "python",
   "name": "python3"
  },
  "language_info": {
   "codemirror_mode": {
    "name": "ipython",
    "version": 3
   },
   "file_extension": ".py",
   "mimetype": "text/x-python",
   "name": "python",
   "nbconvert_exporter": "python",
   "pygments_lexer": "ipython3",
   "version": "3.6.1"
  }
 },
 "nbformat": 4,
 "nbformat_minor": 2
}
