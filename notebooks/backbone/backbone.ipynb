{
 "cells": [
  {
   "cell_type": "code",
   "execution_count": 2,
   "metadata": {
    "collapsed": true
   },
   "outputs": [],
   "source": [
    "r = open(\"/Users/gbatra/dep-repos/f8a-server-backbone/deps.txt\")"
   ]
  },
  {
   "cell_type": "code",
   "execution_count": 3,
   "metadata": {
    "collapsed": true
   },
   "outputs": [],
   "source": [
    "pipdata = r.read().split()\n"
   ]
  },
  {
   "cell_type": "code",
   "execution_count": 26,
   "metadata": {},
   "outputs": [
    {
     "data": {
      "text/plain": [
       "{'attrs-17.4.0',\n",
       " 'certifi-2018.1.18',\n",
       " 'chardet-3.0.4',\n",
       " 'click-6.7',\n",
       " 'flask-0.12.2',\n",
       " 'flask-cors-3.0.2',\n",
       " 'gevent-1.2.2',\n",
       " 'greenlet-0.4.13',\n",
       " 'gunicorn-19.7.1',\n",
       " 'idna-2.6',\n",
       " 'itsdangerous-0.24',\n",
       " 'jinja2-2.10',\n",
       " 'markupsafe-1.0',\n",
       " 'pluggy-0.6.0',\n",
       " 'psycopg2-2.7.4',\n",
       " 'py-1.5.2',\n",
       " 'pytest-3.4.0',\n",
       " 'requests-2.18.4',\n",
       " 'requests-futures-0.9.7',\n",
       " 'semantic-version-2.6.0',\n",
       " 'six-1.11.0',\n",
       " 'sqlalchemy-1.2.3',\n",
       " 'urllib3-1.22',\n",
       " 'werkzeug-0.14.1'}"
      ]
     },
     "execution_count": 26,
     "metadata": {},
     "output_type": "execute_result"
    }
   ],
   "source": [
    "set_pipdata = []\n",
    "\n",
    "for each in pipdata:\n",
    "    set_pipdata.append(each.split(\"==\")[0].lower() + \"-\" + each.split(\"==\")[1])\n",
    "\n",
    "set_pipdata = set(set_pipdata)\n",
    "set_pipdata\n",
    "\n",
    "\n",
    "\n",
    "    \n",
    "    \n",
    "\n"
   ]
  },
  {
   "cell_type": "code",
   "execution_count": 18,
   "metadata": {
    "collapsed": true
   },
   "outputs": [],
   "source": [
    "gistdata = {'idna-2.6', 'urllib3-1.22', 'ipaddress-1.0.19', 'docker-compose-1.19.0', 'cached-property-1.3.1', 'certifi-2018.1.18', 'enum34-1.1.6', 'functools32-3.2.3.post2', 'requests-2.18.4', 'PyYAML-3.12', 'docopt-0.6.2', 'backports.ssl-match-hostname-3.5.0.1', 'docker-pycreds-0.2.1', 'dockerpty-0.4.1', 'docker-2.7.0', 'six-1.11.0', 'chardet-3.0.4', 'texttable-0.9.1', 'jsonschema-2.6.0', 'websocket-client-0.46.0'}\n",
    "\n",
    "\n"
   ]
  },
  {
   "cell_type": "code",
   "execution_count": 20,
   "metadata": {},
   "outputs": [
    {
     "data": {
      "text/plain": [
       "24"
      ]
     },
     "execution_count": 20,
     "metadata": {},
     "output_type": "execute_result"
    }
   ],
   "source": [
    "len(pipdata)"
   ]
  },
  {
   "cell_type": "code",
   "execution_count": 21,
   "metadata": {},
   "outputs": [
    {
     "data": {
      "text/plain": [
       "20"
      ]
     },
     "execution_count": 21,
     "metadata": {},
     "output_type": "execute_result"
    }
   ],
   "source": [
    "len(gistdata)"
   ]
  },
  {
   "cell_type": "code",
   "execution_count": 28,
   "metadata": {},
   "outputs": [
    {
     "data": {
      "text/plain": [
       "18"
      ]
     },
     "execution_count": 28,
     "metadata": {},
     "output_type": "execute_result"
    }
   ],
   "source": [
    "len(set_pipdata - gistdata)\n",
    "\n",
    "\n",
    "\n",
    "\n"
   ]
  },
  {
   "cell_type": "code",
   "execution_count": 29,
   "metadata": {},
   "outputs": [
    {
     "data": {
      "text/plain": [
       "{'attrs-17.4.0',\n",
       " 'click-6.7',\n",
       " 'flask-0.12.2',\n",
       " 'flask-cors-3.0.2',\n",
       " 'gevent-1.2.2',\n",
       " 'greenlet-0.4.13',\n",
       " 'gunicorn-19.7.1',\n",
       " 'itsdangerous-0.24',\n",
       " 'jinja2-2.10',\n",
       " 'markupsafe-1.0',\n",
       " 'pluggy-0.6.0',\n",
       " 'psycopg2-2.7.4',\n",
       " 'py-1.5.2',\n",
       " 'pytest-3.4.0',\n",
       " 'requests-futures-0.9.7',\n",
       " 'semantic-version-2.6.0',\n",
       " 'sqlalchemy-1.2.3',\n",
       " 'werkzeug-0.14.1'}"
      ]
     },
     "execution_count": 29,
     "metadata": {},
     "output_type": "execute_result"
    }
   ],
   "source": [
    "set_pipdata - gistdata\n"
   ]
  },
  {
   "cell_type": "code",
   "execution_count": 31,
   "metadata": {},
   "outputs": [],
   "source": [
    "from pip._vendor import pkg_resources"
   ]
  },
  {
   "cell_type": "code",
   "execution_count": 42,
   "metadata": {},
   "outputs": [
    {
     "name": "stdout",
     "output_type": "stream",
     "text": [
      "Werkzeug\n",
      "Flask-Cors\n",
      "pluggy\n",
      "psycopg2\n",
      "idna\n",
      "Jinja2\n",
      "py\n",
      "certifi\n",
      "SQLAlchemy\n",
      "itsdangerous\n",
      "pytest\n",
      "semantic-version\n",
      "six\n",
      "MarkupSafe\n",
      "gevent\n",
      "requests-futures\n",
      "click\n",
      "requests\n",
      "Flask\n",
      "greenlet\n",
      "chardet\n",
      "attrs\n",
      "gunicorn\n",
      "urllib3\n",
      "{Werkzeug 0.14.1 (/usr/local/lib/python3.6/site-packages): [], Flask-Cors 3.0.2 (/usr/local/lib/python3.6/site-packages): ['Flask>=0.9', 'Six'], psycopg2 2.6.2 (/usr/local/lib/python3.6/site-packages): [], idna 2.6 (/usr/local/lib/python3.6/site-packages): [], Jinja2 2.10 (/usr/local/lib/python3.6/site-packages): ['MarkupSafe>=0.23'], certifi 2018.1.18 (/usr/local/lib/python3.6/site-packages): [], SQLAlchemy 1.1.3 (/usr/local/lib/python3.6/site-packages): [], itsdangerous 0.24 (/usr/local/lib/python3.6/site-packages): [], six 1.11.0 (/usr/local/lib/python3.6/site-packages): [], MarkupSafe 1.0 (/usr/local/lib/python3.6/site-packages): [], requests-futures 0.9.7 (/usr/local/lib/python3.6/site-packages): ['requests>=1.2.0'], click 6.7 (/usr/local/lib/python3.6/site-packages): [], requests 2.18.4 (/usr/local/lib/python3.6/site-packages): ['idna<2.7,>=2.5', 'certifi>=2017.4.17', 'chardet<3.1.0,>=3.0.2', 'urllib3<1.23,>=1.21.1'], Flask 0.12.2 (/usr/local/lib/python3.6/site-packages): ['Werkzeug>=0.7', 'click>=2.0', 'itsdangerous>=0.21', 'Jinja2>=2.4'], chardet 3.0.4 (/usr/local/lib/python3.6/site-packages): [], gunicorn 19.7.1 (/usr/local/lib/python3.6/site-packages): [], urllib3 1.22 (/usr/local/lib/python3.6/site-packages): []}\n"
     ]
    },
    {
     "data": {
      "text/plain": [
       "['pluggy==0.6.0',\n",
       " 'py==1.5.2',\n",
       " 'pytest==3.4.0',\n",
       " 'semantic-version==2.6.0',\n",
       " 'gevent==1.2.2',\n",
       " 'greenlet==0.4.13',\n",
       " 'attrs==17.4.0']"
      ]
     },
     "execution_count": 42,
     "metadata": {},
     "output_type": "execute_result"
    }
   ],
   "source": [
    "package_dict = {}\n",
    "black_list = []\n",
    "for each in pipdata:\n",
    "    \n",
    "    try:\n",
    "        _package_name = each.split(\"==\")[0]\n",
    "        print(_package_name)\n",
    "        _package = pkg_resources.working_set.by_key[_package_name.lower()]\n",
    "        package_dict[_package]  = [str(r) for r in _package.requires()]\n",
    "    except:\n",
    "        black_list.append(each)\n",
    "        continue\n",
    "print(package_dict)\n",
    "\n",
    "black_list\n",
    "    \n"
   ]
  },
  {
   "cell_type": "code",
   "execution_count": null,
   "metadata": {
    "collapsed": true
   },
   "outputs": [],
   "source": []
  }
 ],
 "metadata": {
  "kernelspec": {
   "display_name": "Python 3",
   "language": "python",
   "name": "python3"
  },
  "language_info": {
   "codemirror_mode": {
    "name": "ipython",
    "version": 3
   },
   "file_extension": ".py",
   "mimetype": "text/x-python",
   "name": "python",
   "nbconvert_exporter": "python",
   "pygments_lexer": "ipython3",
   "version": "3.6.1"
  }
 },
 "nbformat": 4,
 "nbformat_minor": 2
}
