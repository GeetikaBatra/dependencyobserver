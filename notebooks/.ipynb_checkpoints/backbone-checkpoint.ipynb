{
 "cells": [
  {
   "cell_type": "code",
   "execution_count": 2,
   "metadata": {
    "collapsed": true
   },
   "outputs": [],
   "source": [
    "r = open(\"/Users/gbatra/dep-repos/f8a-server-backbone/deps.txt\")"
   ]
  },
  {
   "cell_type": "code",
   "execution_count": 3,
   "metadata": {
    "collapsed": true
   },
   "outputs": [],
   "source": [
    "pipdata = r.read().split()\n"
   ]
  },
  {
   "cell_type": "code",
   "execution_count": 17,
   "metadata": {},
   "outputs": [
    {
     "data": {
      "text/plain": [
       "['werkzeug-0.14.1',\n",
       " 'flask-cors-3.0.2',\n",
       " 'pluggy-0.6.0',\n",
       " 'psycopg2-2.7.4',\n",
       " 'idna-2.6',\n",
       " 'jinja2-2.10',\n",
       " 'py-1.5.2',\n",
       " 'certifi-2018.1.18',\n",
       " 'sqlalchemy-1.2.3',\n",
       " 'itsdangerous-0.24',\n",
       " 'pytest-3.4.0',\n",
       " 'semantic-version-2.6.0',\n",
       " 'six-1.11.0',\n",
       " 'markupsafe-1.0',\n",
       " 'gevent-1.2.2',\n",
       " 'requests-futures-0.9.7',\n",
       " 'click-6.7',\n",
       " 'requests-2.18.4',\n",
       " 'flask-0.12.2',\n",
       " 'greenlet-0.4.13',\n",
       " 'chardet-3.0.4',\n",
       " 'attrs-17.4.0',\n",
       " 'gunicorn-19.7.1',\n",
       " 'urllib3-1.22']"
      ]
     },
     "execution_count": 17,
     "metadata": {},
     "output_type": "execute_result"
    }
   ],
   "source": [
    "set_pipdata = []\n",
    "\n",
    "for each in pipdata:\n",
    "    set_pipdata.append(each.split(\"==\")[0].lower() + \"-\" + each.split(\"==\")[1])\n",
    "\n",
    "set_pipdata = set(set_pipdata)\n",
    "\n",
    "    \n",
    "    \n",
    "    \n",
    "\n"
   ]
  },
  {
   "cell_type": "code",
   "execution_count": 18,
   "metadata": {
    "collapsed": true
   },
   "outputs": [],
   "source": [
    "gistdata = {'idna-2.6', 'urllib3-1.22', 'ipaddress-1.0.19', 'docker-compose-1.19.0', 'cached-property-1.3.1', 'certifi-2018.1.18', 'enum34-1.1.6', 'functools32-3.2.3.post2', 'requests-2.18.4', 'PyYAML-3.12', 'docopt-0.6.2', 'backports.ssl-match-hostname-3.5.0.1', 'docker-pycreds-0.2.1', 'dockerpty-0.4.1', 'docker-2.7.0', 'six-1.11.0', 'chardet-3.0.4', 'texttable-0.9.1', 'jsonschema-2.6.0', 'websocket-client-0.46.0'}\n",
    "\n",
    "\n"
   ]
  },
  {
   "cell_type": "code",
   "execution_count": 20,
   "metadata": {},
   "outputs": [
    {
     "data": {
      "text/plain": [
       "24"
      ]
     },
     "execution_count": 20,
     "metadata": {},
     "output_type": "execute_result"
    }
   ],
   "source": [
    "len(pipdata)"
   ]
  },
  {
   "cell_type": "code",
   "execution_count": 21,
   "metadata": {},
   "outputs": [
    {
     "data": {
      "text/plain": [
       "20"
      ]
     },
     "execution_count": 21,
     "metadata": {},
     "output_type": "execute_result"
    }
   ],
   "source": [
    "len(gistdata)"
   ]
  },
  {
   "cell_type": "code",
   "execution_count": 23,
   "metadata": {},
   "outputs": [
    {
     "ename": "TypeError",
     "evalue": "unsupported operand type(s) for -: 'list' and 'set'",
     "output_type": "error",
     "traceback": [
      "\u001b[0;31m---------------------------------------------------------------------------\u001b[0m",
      "\u001b[0;31mTypeError\u001b[0m                                 Traceback (most recent call last)",
      "\u001b[0;32m<ipython-input-23-43b8c555fe13>\u001b[0m in \u001b[0;36m<module>\u001b[0;34m()\u001b[0m\n\u001b[0;32m----> 1\u001b[0;31m \u001b[0mset_pipdata\u001b[0m \u001b[0;34m-\u001b[0m \u001b[0mgistdata\u001b[0m\u001b[0;34m\u001b[0m\u001b[0m\n\u001b[0m\u001b[1;32m      2\u001b[0m \u001b[0;34m\u001b[0m\u001b[0m\n\u001b[1;32m      3\u001b[0m \u001b[0;34m\u001b[0m\u001b[0m\n\u001b[1;32m      4\u001b[0m \u001b[0;34m\u001b[0m\u001b[0m\n",
      "\u001b[0;31mTypeError\u001b[0m: unsupported operand type(s) for -: 'list' and 'set'"
     ]
    }
   ],
   "source": [
    "set_pipdata - gistdata\n",
    "\n",
    "\n",
    "\n"
   ]
  },
  {
   "cell_type": "code",
   "execution_count": null,
   "metadata": {
    "collapsed": true
   },
   "outputs": [],
   "source": []
  }
 ],
 "metadata": {
  "kernelspec": {
   "display_name": "Python 3",
   "language": "python",
   "name": "python3"
  },
  "language_info": {
   "codemirror_mode": {
    "name": "ipython",
    "version": 3
   },
   "file_extension": ".py",
   "mimetype": "text/x-python",
   "name": "python",
   "nbconvert_exporter": "python",
   "pygments_lexer": "ipython3",
   "version": "3.6.1"
  }
 },
 "nbformat": 4,
 "nbformat_minor": 2
}
